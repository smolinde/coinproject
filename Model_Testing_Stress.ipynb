{
 "cells": [
  {
   "cell_type": "code",
   "execution_count": 1,
   "id": "b70d169a-f859-40bb-8413-4ec402d95015",
   "metadata": {},
   "outputs": [],
   "source": [
    "import os\n",
    "import random as rnd\n",
    "import numpy as np\n",
    "import pandas as pd\n",
    "import matplotlib.pyplot as plt\n",
    "import torch\n",
    "import torchaudio\n",
    "from pytorch_model_summary import summary\n",
    "import torch.nn as nn\n",
    "from torch.nn.functional import normalize\n",
    "import torch.nn.functional as F\n",
    "import torch.utils.data as data\n",
    "from torch.utils.data import DataLoader, Dataset, random_split\n",
    "from torchvision import datasets\n",
    "from torchvision.transforms import ToTensor\n",
    "import torchaudio.prototype.models\n",
    "import torchaudio.prototype.pipelines"
   ]
  },
  {
   "cell_type": "code",
   "execution_count": 2,
   "id": "00988d3b-f932-4e77-b1d8-2ce80d0bb7e3",
   "metadata": {},
   "outputs": [
    {
     "name": "stdout",
     "output_type": "stream",
     "text": [
      "NVIDIA GeForce RTX 3060\n"
     ]
    }
   ],
   "source": [
    "if torch.cuda.is_available():\n",
    "    print(torch.cuda.get_device_name(0))\n",
    "\n",
    "device = torch.device('cuda' if torch.cuda.is_available() else 'cpu')"
   ]
  },
  {
   "cell_type": "code",
   "execution_count": 3,
   "id": "2d1fa355-35d6-45fd-b0ec-4da77914d370",
   "metadata": {},
   "outputs": [],
   "source": [
    "class SpikerboxRecordings(Dataset):\n",
    "\n",
    "    def __init__(self, annotations_file, audio_dir, transformation, target_sample_rate, num_samples, device, already_dataframe):\n",
    "        if already_dataframe:\n",
    "            self.annotations = annotations_file\n",
    "        else:\n",
    "            self.annotations = pd.read_csv(annotations_file)\n",
    "        self.audio_dir = audio_dir\n",
    "        self.device = device\n",
    "        self.transformation = transformation.to(self.device)\n",
    "        self.target_sample_rate = target_sample_rate\n",
    "        self.num_samples = num_samples\n",
    "    \n",
    "    def __len__(self):\n",
    "        return len(self.annotations)\n",
    "\n",
    "    def __getitem__(self, index):\n",
    "        audio_sample_path = self._get_audio_sample_path(index)\n",
    "        label = self._get_audio_sample_label(index)\n",
    "        signal, sample_rate = torchaudio.load(audio_sample_path)\n",
    "        signal = signal.to(self.device)\n",
    "        signal = self._cut_if_necessary(signal)\n",
    "        signal = self._right_pad_if_necessary(signal)\n",
    "        signal = self.transformation(signal)\n",
    "        signal = self._make_log_mels(signal)\n",
    "        signal = self._adjust_mel_width_if_necessary(signal, 96)\n",
    "        return signal, label\n",
    "    \n",
    "    def _get_audio_sample_path(self, index):\n",
    "        path = os.path.join(self.audio_dir, self.annotations.iloc[index, 0])\n",
    "        return path\n",
    "    def _resample_if_necessary(self, signal, sample_rate):\n",
    "        if sample_rate != self.target_sample_rate:\n",
    "            resampler = torchaudio.transforms.Resample(sample_rate, self.target_sample_rate).to(self.device)\n",
    "            signal = resampler(signal)\n",
    "        return signal\n",
    "    def _get_audio_sample_label(self, index):\n",
    "        return self.annotations.iloc[index, 3]\n",
    "    def _cut_if_necessary(self, signal):\n",
    "        if signal.shape[1] > self.num_samples:\n",
    "            signal = signal[:, :self.num_samples]\n",
    "        return signal\n",
    "    def _right_pad_if_necessary(self, signal):\n",
    "        length_signal = signal.shape[1]\n",
    "        if length_signal < self.num_samples:\n",
    "            num_missing_samples = self.num_samples - length_signal\n",
    "            last_dim_padding = (0, num_missing_samples)\n",
    "            signal = torch.nn.functional.pad(signal, last_dim_padding)\n",
    "        return signal\n",
    "    def _make_log_mels(self, signal):\n",
    "        return torchaudio.transforms.AmplitudeToDB().to(self.device)(signal)\n",
    "    def _adjust_mel_width_if_necessary(self, log_mel_spectrogram, width):\n",
    "        if log_mel_spectrogram.shape[-1] < width:\n",
    "            pad_width = width - log_mel_spectrogram.shape[-1]\n",
    "            log_mel_spectrogram = torch.nn.functional.pad(log_mel_spectrogram, (0, pad_width))\n",
    "        elif log_mel_spectrogram.shape[-1] > width:\n",
    "            log_mel_spectrogram = log_mel_spectrogram[:, :, :width]\n",
    "        return log_mel_spectrogram"
   ]
  },
  {
   "cell_type": "code",
   "execution_count": 4,
   "id": "dc8f410c-192f-4963-9b14-88dd2dbf9233",
   "metadata": {},
   "outputs": [],
   "source": [
    "input_dir = 'test_data/files'\n",
    "df_metadata_test = pd.DataFrame(pd.read_csv('test_data/metadata/file_labels.csv'))\n",
    "exam_names = np.unique([element.split('_')[0] for element in df_metadata_test.filename.values])"
   ]
  },
  {
   "cell_type": "code",
   "execution_count": 5,
   "id": "ef22e863-285b-43be-b96c-1122f015b019",
   "metadata": {},
   "outputs": [],
   "source": [
    "exams = list()\n",
    "\n",
    "for exam_name in exam_names:\n",
    "    ANNOTATIONS_FILE = df_metadata_test[df_metadata_test.filename.str.startswith(exam_name)]\n",
    "    AUDIO_DIR = input_dir\n",
    "    SAMPLE_RATE = 10000\n",
    "    NUM_SAMPLES = 9600\n",
    "\n",
    "    mel_spectrogram = torchaudio.transforms.MelSpectrogram(\n",
    "        sample_rate = SAMPLE_RATE,\n",
    "        n_fft = 400,\n",
    "        hop_length = 160,\n",
    "        n_mels = 64\n",
    "    )\n",
    "\n",
    "    spr = SpikerboxRecordings(\n",
    "        ANNOTATIONS_FILE,\n",
    "        AUDIO_DIR,\n",
    "        mel_spectrogram,\n",
    "        SAMPLE_RATE,\n",
    "        NUM_SAMPLES,\n",
    "        device,\n",
    "        already_dataframe = True\n",
    "    )\n",
    "    exams.append(spr)"
   ]
  },
  {
   "cell_type": "code",
   "execution_count": 6,
   "id": "cf3731df-02fa-462a-83be-aec1e1aca34d",
   "metadata": {},
   "outputs": [],
   "source": [
    "ANNOTATIONS_FILE = 'test_data/metadata/file_labels.csv'\n",
    "AUDIO_DIR = input_dir\n",
    "SAMPLE_RATE = 10000\n",
    "NUM_SAMPLES = 9600\n",
    "\n",
    "mel_spectrogram = torchaudio.transforms.MelSpectrogram(\n",
    "    sample_rate = SAMPLE_RATE,\n",
    "    n_fft = 400,\n",
    "    hop_length = 160,\n",
    "    n_mels = 64\n",
    ")\n",
    "spr = SpikerboxRecordings(\n",
    "    ANNOTATIONS_FILE,\n",
    "    AUDIO_DIR,\n",
    "    mel_spectrogram,\n",
    "    SAMPLE_RATE,\n",
    "    NUM_SAMPLES,\n",
    "    device,\n",
    "    already_dataframe = False\n",
    ")"
   ]
  },
  {
   "cell_type": "code",
   "execution_count": 7,
   "id": "30c41770-7992-4ed9-b19d-79a7074800c3",
   "metadata": {},
   "outputs": [],
   "source": [
    "class VGGishNetwork(nn.Module):\n",
    "    def __init__(self):\n",
    "        super(VGGishNetwork, self).__init__()\n",
    "        self.features = nn.Sequential(\n",
    "            nn.Conv2d(1, 64, kernel_size=(3, 3), stride=(1, 1), padding=(1, 1)),\n",
    "            nn.ReLU(inplace=True),\n",
    "            nn.MaxPool2d(kernel_size=2, stride=2),\n",
    "            nn.Conv2d(64, 128, kernel_size=(3, 3), stride=(1, 1), padding=(1, 1)),\n",
    "            nn.ReLU(inplace=True),\n",
    "            nn.MaxPool2d(kernel_size=2, stride=2),\n",
    "            nn.Conv2d(128, 256, kernel_size=(3, 3), stride=(1, 1), padding=(1, 1)),\n",
    "            nn.ReLU(inplace=True),\n",
    "            nn.Conv2d(256, 256, kernel_size=(3, 3), stride=(1, 1), padding=(1, 1)),\n",
    "            nn.ReLU(inplace=True),\n",
    "            nn.MaxPool2d(kernel_size=2, stride=2),\n",
    "            nn.Conv2d(256, 512, kernel_size=(3, 3), stride=(1, 1), padding=(1, 1)),\n",
    "            nn.ReLU(inplace=True),\n",
    "            nn.Conv2d(512, 512, kernel_size=(3, 3), stride=(1, 1), padding=(1, 1)),\n",
    "            nn.ReLU(inplace=True),\n",
    "            nn.MaxPool2d(kernel_size=2, stride=2)\n",
    "        )\n",
    "        \n",
    "        self.embeddings = nn.Sequential(\n",
    "            nn.Linear(12288, 4096),\n",
    "            nn.ReLU(inplace=True),\n",
    "            nn.Linear(4096, 4096),\n",
    "            nn.ReLU(inplace=True),\n",
    "            nn.Linear(4096, 10)\n",
    "        )\n",
    "\n",
    "    def forward(self, x):\n",
    "        x = self.features(x)\n",
    "        x = torch.flatten(x, 1)\n",
    "        x = self.embeddings(x)\n",
    "        return x"
   ]
  },
  {
   "cell_type": "code",
   "execution_count": 8,
   "id": "a8f7f586-1898-4b0b-a8f6-a14f2c93dc5a",
   "metadata": {},
   "outputs": [],
   "source": [
    "def evaluate_exam(model, test_dl, device):\n",
    "        model.eval()\n",
    "        with torch.no_grad():\n",
    "            test_inputs, test_targets = next(iter(test_dl))\n",
    "            test_inputs = test_inputs.to(device)\n",
    "            test_outputs = model(test_inputs)\n",
    "            _, predicted_val = torch.max(test_outputs, 1)\n",
    "            return round(torch.mean(predicted_val.float()).item())"
   ]
  },
  {
   "cell_type": "code",
   "execution_count": 9,
   "id": "241105a3-57bb-4d49-9f8a-9114a94c50f8",
   "metadata": {},
   "outputs": [],
   "source": [
    "def scaled_accuracy(output, target, max_distance, device):\n",
    "    output, target = output.to(device), target.to(device)\n",
    "    with torch.no_grad():\n",
    "        pred = torch.argmax(output, dim=1)\n",
    "        target = target.view(-1)\n",
    "        distance = torch.abs(pred - target)\n",
    "        scaled_acc = torch.clamp(1 - (distance.float() / max_distance), min=0.0)\n",
    "        return scaled_acc.mean().item()"
   ]
  },
  {
   "cell_type": "code",
   "execution_count": 10,
   "id": "14886b3a-619f-419e-bd3a-7919ee47e455",
   "metadata": {},
   "outputs": [],
   "source": [
    "def test_model(model, test_dl, loss_func, device):\n",
    "    model.eval()\n",
    "    running_test_loss = 0.0\n",
    "    running_scaled_accuracy_test = 0.0\n",
    "    correct_test = 0\n",
    "    total_test = 0\n",
    "    with torch.no_grad():\n",
    "        for test_inputs, test_targets in test_dl:\n",
    "            test_inputs, test_targets = test_inputs.to(device), test_targets.to(device)\n",
    "            test_outputs = model(test_inputs)\n",
    "            running_test_loss += loss_func(test_outputs, test_targets).item()\n",
    "            running_scaled_accuracy_test += scaled_accuracy(test_outputs, test_targets, 9, device)\n",
    "            _, predicted_test = torch.max(test_outputs, 1)\n",
    "            total_test += test_targets.size(0)\n",
    "            correct_test += (predicted_test == test_targets).sum().item()\n",
    "        \n",
    "    test_loss = running_test_loss / len(test_dl)\n",
    "    test_scaled_accuracy = (running_scaled_accuracy_test / len(test_dl)) * 100\n",
    "    test_accuracy = correct_test / total_test\n",
    "    print(f'[Test Results]\\nTest Loss: {test_loss:.7f}, Test Accuracy: {100 * test_accuracy:.2f}%, Scaled Test Accuracy: {test_scaled_accuracy:.2f}%')"
   ]
  },
  {
   "cell_type": "code",
   "execution_count": 11,
   "id": "1da6dfef-7b80-4af3-a518-3769253cb56d",
   "metadata": {},
   "outputs": [
    {
     "data": {
      "text/plain": [
       "<All keys matched successfully>"
      ]
     },
     "execution_count": 11,
     "metadata": {},
     "output_type": "execute_result"
    }
   ],
   "source": [
    "VGGish_Stress = VGGishNetwork().to(device)\n",
    "VGGish_Stress.load_state_dict(torch.load('trained_models/VGGish_Stress.pth', weights_only = False))"
   ]
  },
  {
   "cell_type": "code",
   "execution_count": 12,
   "id": "fbd440a8-e8d8-404e-b867-c1c2bf8eb281",
   "metadata": {},
   "outputs": [
    {
     "name": "stdout",
     "output_type": "stream",
     "text": [
      "[Test Results]\n",
      "Test Loss: 1.4868198, Test Accuracy: 48.30%, Scaled Test Accuracy: 80.18%\n"
     ]
    }
   ],
   "source": [
    "generator = torch.Generator()\n",
    "generator.manual_seed(569567390)\n",
    "test_dl = DataLoader(spr, batch_size = 128, shuffle = True, generator = generator)\n",
    "loss_fn = nn.CrossEntropyLoss().to(device)\n",
    "test_model(VGGish_Stress, test_dl, loss_fn, device)"
   ]
  },
  {
   "cell_type": "code",
   "execution_count": 13,
   "id": "6bffe669-bfe1-4239-acb9-af8b193db875",
   "metadata": {},
   "outputs": [
    {
     "name": "stdout",
     "output_type": "stream",
     "text": [
      "Predicted Stress: 6\n",
      "Actual Stress: 3\n",
      "Predicted Stress: 5\n",
      "Actual Stress: 5\n",
      "Predicted Stress: 6\n",
      "Actual Stress: 4\n"
     ]
    }
   ],
   "source": [
    "for exam in exams:\n",
    "    test_dl = DataLoader(exam, batch_size = len(exam), shuffle = True)\n",
    "    prediction = evaluate_exam(VGGish_Stress, test_dl, device)\n",
    "    print(\"Predicted Stress:\", prediction)\n",
    "    print(\"Actual Stress:\", exam[0][1])"
   ]
  },
  {
   "cell_type": "code",
   "execution_count": null,
   "id": "149e80a2-2cb1-4db6-b9d8-b64d19822d82",
   "metadata": {},
   "outputs": [],
   "source": []
  }
 ],
 "metadata": {
  "kernelspec": {
   "display_name": "Python 3 (ipykernel)",
   "language": "python",
   "name": "python3"
  },
  "language_info": {
   "codemirror_mode": {
    "name": "ipython",
    "version": 3
   },
   "file_extension": ".py",
   "mimetype": "text/x-python",
   "name": "python",
   "nbconvert_exporter": "python",
   "pygments_lexer": "ipython3",
   "version": "3.11.9"
  }
 },
 "nbformat": 4,
 "nbformat_minor": 5
}
