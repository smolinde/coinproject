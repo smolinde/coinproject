{
 "cells": [
  {
   "cell_type": "code",
   "execution_count": 1,
   "id": "df7ab984-8813-478d-b20b-5002dfa1fed0",
   "metadata": {},
   "outputs": [],
   "source": [
    "import os\n",
    "import numpy as np\n",
    "import pandas as pd\n",
    "import torch\n",
    "import torchaudio\n",
    "from sklearn.model_selection import train_test_split"
   ]
  },
  {
   "cell_type": "code",
   "execution_count": 2,
   "id": "c1ff9202-f6d4-40ed-9dae-da0156b4074e",
   "metadata": {},
   "outputs": [],
   "source": [
    "input_dir = 'all_data/files'\n",
    "df_metadata = pd.DataFrame(pd.read_csv('all_data/metadata/spikerbox_recordings.csv'))\n",
    "output_dir = '.'\n",
    "piece_length = 0.96\n",
    "\n",
    "os.makedirs(os.path.join(output_dir, 'train_data/files'), exist_ok=True)\n",
    "os.makedirs(os.path.join(output_dir, 'train_data/metadata'), exist_ok=True)\n",
    "os.makedirs(os.path.join(output_dir, 'valid_data/files'), exist_ok=True)\n",
    "os.makedirs(os.path.join(output_dir, 'valid_data/metadata'), exist_ok=True)\n",
    "os.makedirs(os.path.join(output_dir, 'test_data/files'), exist_ok=True)\n",
    "os.makedirs(os.path.join(output_dir, 'test_data/metadata'), exist_ok=True)"
   ]
  },
  {
   "cell_type": "code",
   "execution_count": 3,
   "id": "310d167a-e12e-417d-a58a-bfec68f5de37",
   "metadata": {},
   "outputs": [],
   "source": [
    "df_control_group = df_metadata[df_metadata.treatment == 0]\n",
    "df_treatment_group = df_metadata[df_metadata.treatment == 1]\n",
    "df_control_group_train, df_control_group_temp = train_test_split(\n",
    "    df_control_group, test_size = 0.3, random_state = 2024\n",
    ")\n",
    "df_treatment_group_train, df_treatment_group_temp = train_test_split(\n",
    "    df_treatment_group, test_size = 0.3, random_state = 2024\n",
    ")\n",
    "df_control_group_valid, df_control_group_test = train_test_split(\n",
    "    df_control_group_temp, test_size = 1/3, random_state = 2024\n",
    ")\n",
    "df_treatment_group_valid, df_treatment_group_test = train_test_split(\n",
    "    df_treatment_group_temp, test_size = 1/3, random_state = 2024\n",
    ")\n",
    "df_metadata_train = pd.concat([df_control_group_train, df_treatment_group_train], ignore_index = True)\n",
    "df_metadata_valid = pd.concat([df_control_group_valid, df_treatment_group_valid], ignore_index = True)\n",
    "df_metadata_test = pd.concat([df_control_group_test, df_treatment_group_test], ignore_index = True)\n",
    "df_metadata_train.reset_index(inplace = True, drop = True)\n",
    "df_metadata_valid.reset_index(inplace = True, drop = True)\n",
    "df_metadata_test.reset_index(inplace = True, drop = True)"
   ]
  },
  {
   "cell_type": "code",
   "execution_count": 4,
   "id": "a08b83e2-6844-48ca-ad30-8455c805873d",
   "metadata": {},
   "outputs": [],
   "source": [
    "def split_wav_file(input_dir, output_dir, piece_length, file_name, df_metadata):\n",
    "    performance = df_metadata.loc[df_metadata[df_metadata['filename'] == file_name].index[0], 'performance']\n",
    "    treatment = df_metadata.loc[df_metadata[df_metadata['filename'] == file_name].index[0], 'treatment']\n",
    "    stresslevel = df_metadata.loc[df_metadata[df_metadata['filename'] == file_name].index[0], 'stresslevel']\n",
    "    df_metadata.drop(df_metadata[df_metadata['filename'] == file_name].index, inplace = True)\n",
    "    waveform, sample_rate = torchaudio.load(file_path)\n",
    "    samples_per_piece = int(piece_length * sample_rate)\n",
    "    total_samples = waveform.size(1)\n",
    "    num_pieces = (total_samples + samples_per_piece - 1) // samples_per_piece\n",
    "    file_name = os.path.splitext(os.path.basename(input_dir))[0]\n",
    "    for i in range(num_pieces):\n",
    "        start_sample = i * samples_per_piece\n",
    "        end_sample = min((i + 1) * samples_per_piece, total_samples)\n",
    "        piece = waveform[:, start_sample:end_sample]\n",
    "        piece_file_path = os.path.join(output_dir, f\"{file_name}_{i+1}.wav\")\n",
    "        df_metadata = pd.concat([pd.DataFrame([\n",
    "            [f\"{file_name}_{i+1}.wav\", performance, treatment, stresslevel]\n",
    "        ], columns = df_metadata.columns), df_metadata], ignore_index=True)\n",
    "        torchaudio.save(piece_file_path, piece, sample_rate)\n",
    "    \n",
    "    return df_metadata"
   ]
  },
  {
   "cell_type": "code",
   "execution_count": 5,
   "id": "74658c6f-11db-4ad1-9a7a-756b92c11749",
   "metadata": {},
   "outputs": [],
   "source": [
    "for file_name in df_metadata_train.filename:\n",
    "    file_path = os.path.join(input_dir, file_name)\n",
    "    df_metadata_train = split_wav_file(\n",
    "        file_path, os.path.join(output_dir, 'train_data/files'), piece_length, file_name, df_metadata_train\n",
    "    )"
   ]
  },
  {
   "cell_type": "code",
   "execution_count": 6,
   "id": "f31842eb-22d2-4c46-9400-8c2b906cb578",
   "metadata": {},
   "outputs": [],
   "source": [
    "for file_name in df_metadata_valid.filename:\n",
    "    file_path = os.path.join(input_dir, file_name)\n",
    "    df_metadata_valid = split_wav_file(\n",
    "        file_path, os.path.join(output_dir, 'valid_data/files'), piece_length, file_name, df_metadata_valid\n",
    "    )"
   ]
  },
  {
   "cell_type": "code",
   "execution_count": 7,
   "id": "23d84724-371c-42c3-bc71-2f32b76e15af",
   "metadata": {},
   "outputs": [],
   "source": [
    "for file_name in df_metadata_test.filename:\n",
    "    file_path = os.path.join(input_dir, file_name)\n",
    "    df_metadata_test = split_wav_file(\n",
    "        file_path, os.path.join(output_dir, 'test_data/files'), piece_length, file_name, df_metadata_test\n",
    "    )"
   ]
  },
  {
   "cell_type": "code",
   "execution_count": 8,
   "id": "eaa0e206-12e6-4d6f-821a-51c63dad479f",
   "metadata": {},
   "outputs": [],
   "source": [
    "df_metadata_train.to_csv(os.path.join(output_dir, 'train_data/metadata/file_labels.csv'), index = False)\n",
    "df_metadata_valid.to_csv(os.path.join(output_dir, 'valid_data/metadata/file_labels.csv'), index = False)\n",
    "df_metadata_test.to_csv(os.path.join(output_dir, 'test_data/metadata/file_labels.csv'), index = False)"
   ]
  },
  {
   "cell_type": "code",
   "execution_count": null,
   "id": "18c01a07-a2f7-4d69-aee8-468adf0743f6",
   "metadata": {},
   "outputs": [],
   "source": []
  }
 ],
 "metadata": {
  "kernelspec": {
   "display_name": "Python 3 (ipykernel)",
   "language": "python",
   "name": "python3"
  },
  "language_info": {
   "codemirror_mode": {
    "name": "ipython",
    "version": 3
   },
   "file_extension": ".py",
   "mimetype": "text/x-python",
   "name": "python",
   "nbconvert_exporter": "python",
   "pygments_lexer": "ipython3",
   "version": "3.10.4"
  }
 },
 "nbformat": 4,
 "nbformat_minor": 5
}
