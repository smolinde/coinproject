{
 "cells": [
  {
   "cell_type": "code",
   "execution_count": 1,
   "id": "b70d169a-f859-40bb-8413-4ec402d95015",
   "metadata": {},
   "outputs": [],
   "source": [
    "import numpy as np\n",
    "import pandas as pd\n",
    "import torch\n",
    "import torchaudio\n",
    "from torch.utils.data import DataLoader\n",
    "import classes.ProjectClasses as pcl"
   ]
  },
  {
   "cell_type": "code",
   "execution_count": 2,
   "id": "00988d3b-f932-4e77-b1d8-2ce80d0bb7e3",
   "metadata": {},
   "outputs": [
    {
     "name": "stdout",
     "output_type": "stream",
     "text": [
      "NVIDIA GeForce RTX 3060\n"
     ]
    }
   ],
   "source": [
    "if torch.cuda.is_available():\n",
    "    print(torch.cuda.get_device_name(0))\n",
    "\n",
    "device = torch.device('cuda' if torch.cuda.is_available() else 'cpu')"
   ]
  },
  {
   "cell_type": "code",
   "execution_count": 3,
   "id": "9329107a-586e-4449-a1a4-8e42eb0d14f6",
   "metadata": {},
   "outputs": [],
   "source": [
    "ANNOTATIONS_FILE_TEST = \"../test_data/metadata/file_labels.csv\"\n",
    "AUDIO_DIR_TEST = \"../test_data/files\"\n",
    "SAMPLE_RATE = 10000\n",
    "NUM_SAMPLES = 9600\n",
    "N_FFT = 400\n",
    "HOP_LENGTH = 160\n",
    "N_MELS = 64\n",
    "LABEL_COL = 1\n",
    "NUM_CLASSES = 20\n",
    "\n",
    "tt_utils = pcl.TrainTestUtils(NUM_CLASSES)\n",
    "mel_spectrogram = torchaudio.transforms.MelSpectrogram(sample_rate = SAMPLE_RATE, n_fft = N_FFT, hop_length = HOP_LENGTH, n_mels = N_MELS)\n",
    "spr_test = pcl.SpikerboxRecordings(ANNOTATIONS_FILE_TEST, AUDIO_DIR_TEST, mel_spectrogram, SAMPLE_RATE, NUM_SAMPLES, device, LABEL_COL)"
   ]
  },
  {
   "cell_type": "code",
   "execution_count": 4,
   "id": "4c4d1e2e-1e11-4831-be8e-0b2a9aaf4d9a",
   "metadata": {},
   "outputs": [
    {
     "data": {
      "text/plain": [
       "<All keys matched successfully>"
      ]
     },
     "execution_count": 4,
     "metadata": {},
     "output_type": "execute_result"
    }
   ],
   "source": [
    "VGGish_Grade = pcl.VGGishNetwork(NUM_CLASSES).to(device)\n",
    "VGGish_Grade.load_state_dict(torch.load('../trained_models/VGGish_Grade.pth', weights_only = False))"
   ]
  },
  {
   "cell_type": "code",
   "execution_count": 5,
   "id": "59af5a78-5781-4d5d-999d-9339b41b39f3",
   "metadata": {},
   "outputs": [
    {
     "name": "stdout",
     "output_type": "stream",
     "text": [
      "[Test Results]\n",
      "Test Loss: 7.8880745, Test Accuracy: 58.31%, Scaled Test Accuracy: 93.86%\n"
     ]
    }
   ],
   "source": [
    "BATCH_SIZE = 128\n",
    "generator = torch.Generator()\n",
    "generator.manual_seed(569567390)\n",
    "loss_fn = torch.nn.CrossEntropyLoss().to(device)\n",
    "test_dl = DataLoader(spr_test, batch_size = BATCH_SIZE, shuffle = True, generator = generator)\n",
    "tt_utils.test_model(VGGish_Grade, test_dl, loss_fn, device)"
   ]
  },
  {
   "cell_type": "code",
   "execution_count": 6,
   "id": "eb37afac-bc29-4ec3-a54a-5367718e978e",
   "metadata": {},
   "outputs": [
    {
     "name": "stdout",
     "output_type": "stream",
     "text": [
      "Predicted Grade Bin: 8\n",
      "Actual Grade Bin: 8\n",
      "Predicted Grade Bin: 6\n",
      "Actual Grade Bin: 7\n",
      "Predicted Grade Bin: 7\n",
      "Actual Grade Bin: 4\n"
     ]
    }
   ],
   "source": [
    "df_metadata_test = pd.DataFrame(pd.read_csv(ANNOTATIONS_FILE_TEST))\n",
    "exam_names = np.unique([element.split('_')[0] for element in df_metadata_test.filename.values])\n",
    "exams = list()\n",
    "for exam_name in exam_names:\n",
    "    exam_labels = df_metadata_test[df_metadata_test.filename.str.startswith(exam_name)]\n",
    "    spr_test_single_exam = pcl.SpikerboxRecordings(exam_labels, AUDIO_DIR_TEST, mel_spectrogram, SAMPLE_RATE, NUM_SAMPLES, device, LABEL_COL)\n",
    "    exams.append(spr_test_single_exam)\n",
    "for exam in exams:\n",
    "    test_dl = DataLoader(exam, batch_size = len(exam), shuffle = True)\n",
    "    prediction = tt_utils.evaluate_exam(VGGish_Grade, test_dl, device)\n",
    "    print(\"Predicted Grade Bin:\", prediction)\n",
    "    print(\"Actual Grade Bin:\", exam[0][1])"
   ]
  },
  {
   "cell_type": "code",
   "execution_count": null,
   "id": "99e0ff26-4506-4128-bf3b-274774d412ea",
   "metadata": {},
   "outputs": [],
   "source": []
  }
 ],
 "metadata": {
  "kernelspec": {
   "display_name": "Python 3 (ipykernel)",
   "language": "python",
   "name": "python3"
  },
  "language_info": {
   "codemirror_mode": {
    "name": "ipython",
    "version": 3
   },
   "file_extension": ".py",
   "mimetype": "text/x-python",
   "name": "python",
   "nbconvert_exporter": "python",
   "pygments_lexer": "ipython3",
   "version": "3.11.9"
  }
 },
 "nbformat": 4,
 "nbformat_minor": 5
}
